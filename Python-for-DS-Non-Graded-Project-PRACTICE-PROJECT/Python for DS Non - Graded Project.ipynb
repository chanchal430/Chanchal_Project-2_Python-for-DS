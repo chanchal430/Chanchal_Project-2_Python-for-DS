{
 "cells": [
  {
   "cell_type": "markdown",
   "id": "757bb970",
   "metadata": {},
   "source": [
    "# ● Load and Explore the data (3 points)"
   ]
  },
  {
   "cell_type": "markdown",
   "id": "4ab180f7",
   "metadata": {},
   "source": [
    "## 1. Import the required libraries and read the dataset. (1 point)"
   ]
  },
  {
   "cell_type": "code",
   "execution_count": 1,
   "id": "e62f3cda",
   "metadata": {},
   "outputs": [],
   "source": [
    "%matplotlib inline\n",
    "\n",
    "import pandas as pd\n",
    "import numpy as np\n",
    "import seaborn as sns\n",
    "import matplotlib.pyplot as plt\n",
    "import warnings\n",
    "warnings.filterwarnings('ignore')\n",
    "\n",
    "from sklearn.preprocessing import StandardScaler, LabelEncoder\n",
    "from scipy import stats\n",
    "from scipy.stats import zscore\n",
    "from sklearn.cluster import KMeans\n",
    "from sklearn.model_selection import train_test_split\n",
    "from sklearn.linear_model import LogisticRegression\n",
    "from sklearn.metrics import accuracy_score, confusion_matrix\n",
    "\n",
    "from sklearn.neighbors import KNeighborsClassifier\n",
    "from sklearn.naive_bayes import GaussianNB\n",
    "from sklearn.ensemble import RandomForestClassifier\n",
    "from sklearn.ensemble import StackingClassifier\n",
    "from sklearn.ensemble import AdaBoostClassifier, GradientBoostingClassifier\n",
    "from sklearn.tree import DecisionTreeClassifier"
   ]
  },
  {
   "cell_type": "code",
   "execution_count": 2,
   "id": "1aff8d59",
   "metadata": {},
   "outputs": [],
   "source": [
    "# reading the CSV file into pandas dataframe\n",
    "df = pd.read_csv(\"TelcomCustomer-Churn.csv\")\n",
    "dfc = df.copy()"
   ]
  },
  {
   "cell_type": "markdown",
   "id": "d6d17037",
   "metadata": {},
   "source": [
    "## 2. Check the first few samples, shape, info of the data and try to familiarize yourself with different features. (2 points)"
   ]
  },
  {
   "cell_type": "code",
   "execution_count": 3,
   "id": "cfac46c6",
   "metadata": {},
   "outputs": [
    {
     "data": {
      "text/html": [
       "<div>\n",
       "<style scoped>\n",
       "    .dataframe tbody tr th:only-of-type {\n",
       "        vertical-align: middle;\n",
       "    }\n",
       "\n",
       "    .dataframe tbody tr th {\n",
       "        vertical-align: top;\n",
       "    }\n",
       "\n",
       "    .dataframe thead th {\n",
       "        text-align: right;\n",
       "    }\n",
       "</style>\n",
       "<table border=\"1\" class=\"dataframe\">\n",
       "  <thead>\n",
       "    <tr style=\"text-align: right;\">\n",
       "      <th></th>\n",
       "      <th>customerID</th>\n",
       "      <th>gender</th>\n",
       "      <th>SeniorCitizen</th>\n",
       "      <th>Partner</th>\n",
       "      <th>Dependents</th>\n",
       "      <th>tenure</th>\n",
       "      <th>PhoneService</th>\n",
       "      <th>MultipleLines</th>\n",
       "      <th>InternetService</th>\n",
       "      <th>OnlineSecurity</th>\n",
       "      <th>...</th>\n",
       "      <th>DeviceProtection</th>\n",
       "      <th>TechSupport</th>\n",
       "      <th>StreamingTV</th>\n",
       "      <th>StreamingMovies</th>\n",
       "      <th>Contract</th>\n",
       "      <th>PaperlessBilling</th>\n",
       "      <th>PaymentMethod</th>\n",
       "      <th>MonthlyCharges</th>\n",
       "      <th>TotalCharges</th>\n",
       "      <th>Churn</th>\n",
       "    </tr>\n",
       "  </thead>\n",
       "  <tbody>\n",
       "    <tr>\n",
       "      <th>4315</th>\n",
       "      <td>9019-QVLZD</td>\n",
       "      <td>Female</td>\n",
       "      <td>0</td>\n",
       "      <td>No</td>\n",
       "      <td>No</td>\n",
       "      <td>1</td>\n",
       "      <td>Yes</td>\n",
       "      <td>No</td>\n",
       "      <td>Fiber optic</td>\n",
       "      <td>No</td>\n",
       "      <td>...</td>\n",
       "      <td>No</td>\n",
       "      <td>No</td>\n",
       "      <td>Yes</td>\n",
       "      <td>No</td>\n",
       "      <td>Month-to-month</td>\n",
       "      <td>No</td>\n",
       "      <td>Electronic check</td>\n",
       "      <td>79.55</td>\n",
       "      <td>79.55</td>\n",
       "      <td>Yes</td>\n",
       "    </tr>\n",
       "    <tr>\n",
       "      <th>6374</th>\n",
       "      <td>1293-BSEUN</td>\n",
       "      <td>Female</td>\n",
       "      <td>0</td>\n",
       "      <td>Yes</td>\n",
       "      <td>Yes</td>\n",
       "      <td>72</td>\n",
       "      <td>Yes</td>\n",
       "      <td>No</td>\n",
       "      <td>No</td>\n",
       "      <td>No internet service</td>\n",
       "      <td>...</td>\n",
       "      <td>No internet service</td>\n",
       "      <td>No internet service</td>\n",
       "      <td>No internet service</td>\n",
       "      <td>No internet service</td>\n",
       "      <td>Two year</td>\n",
       "      <td>Yes</td>\n",
       "      <td>Mailed check</td>\n",
       "      <td>20.70</td>\n",
       "      <td>1482.3</td>\n",
       "      <td>No</td>\n",
       "    </tr>\n",
       "    <tr>\n",
       "      <th>3735</th>\n",
       "      <td>3489-HHPFY</td>\n",
       "      <td>Female</td>\n",
       "      <td>0</td>\n",
       "      <td>Yes</td>\n",
       "      <td>No</td>\n",
       "      <td>2</td>\n",
       "      <td>Yes</td>\n",
       "      <td>Yes</td>\n",
       "      <td>Fiber optic</td>\n",
       "      <td>No</td>\n",
       "      <td>...</td>\n",
       "      <td>No</td>\n",
       "      <td>No</td>\n",
       "      <td>Yes</td>\n",
       "      <td>No</td>\n",
       "      <td>Month-to-month</td>\n",
       "      <td>Yes</td>\n",
       "      <td>Electronic check</td>\n",
       "      <td>84.05</td>\n",
       "      <td>134.05</td>\n",
       "      <td>No</td>\n",
       "    </tr>\n",
       "    <tr>\n",
       "      <th>6671</th>\n",
       "      <td>5090-EMGTC</td>\n",
       "      <td>Female</td>\n",
       "      <td>0</td>\n",
       "      <td>Yes</td>\n",
       "      <td>No</td>\n",
       "      <td>59</td>\n",
       "      <td>Yes</td>\n",
       "      <td>No</td>\n",
       "      <td>Fiber optic</td>\n",
       "      <td>No</td>\n",
       "      <td>...</td>\n",
       "      <td>No</td>\n",
       "      <td>Yes</td>\n",
       "      <td>Yes</td>\n",
       "      <td>Yes</td>\n",
       "      <td>Two year</td>\n",
       "      <td>Yes</td>\n",
       "      <td>Mailed check</td>\n",
       "      <td>100.05</td>\n",
       "      <td>6034.85</td>\n",
       "      <td>No</td>\n",
       "    </tr>\n",
       "    <tr>\n",
       "      <th>4846</th>\n",
       "      <td>8993-IZEUX</td>\n",
       "      <td>Male</td>\n",
       "      <td>0</td>\n",
       "      <td>No</td>\n",
       "      <td>No</td>\n",
       "      <td>7</td>\n",
       "      <td>Yes</td>\n",
       "      <td>No</td>\n",
       "      <td>Fiber optic</td>\n",
       "      <td>No</td>\n",
       "      <td>...</td>\n",
       "      <td>No</td>\n",
       "      <td>No</td>\n",
       "      <td>No</td>\n",
       "      <td>No</td>\n",
       "      <td>Month-to-month</td>\n",
       "      <td>No</td>\n",
       "      <td>Bank transfer (automatic)</td>\n",
       "      <td>69.15</td>\n",
       "      <td>488.65</td>\n",
       "      <td>No</td>\n",
       "    </tr>\n",
       "    <tr>\n",
       "      <th>1459</th>\n",
       "      <td>3070-BDOQC</td>\n",
       "      <td>Female</td>\n",
       "      <td>0</td>\n",
       "      <td>No</td>\n",
       "      <td>No</td>\n",
       "      <td>60</td>\n",
       "      <td>Yes</td>\n",
       "      <td>No</td>\n",
       "      <td>Fiber optic</td>\n",
       "      <td>No</td>\n",
       "      <td>...</td>\n",
       "      <td>Yes</td>\n",
       "      <td>No</td>\n",
       "      <td>Yes</td>\n",
       "      <td>Yes</td>\n",
       "      <td>Two year</td>\n",
       "      <td>Yes</td>\n",
       "      <td>Electronic check</td>\n",
       "      <td>99.65</td>\n",
       "      <td>5941.05</td>\n",
       "      <td>No</td>\n",
       "    </tr>\n",
       "    <tr>\n",
       "      <th>1539</th>\n",
       "      <td>5071-FBJFS</td>\n",
       "      <td>Female</td>\n",
       "      <td>0</td>\n",
       "      <td>Yes</td>\n",
       "      <td>Yes</td>\n",
       "      <td>4</td>\n",
       "      <td>Yes</td>\n",
       "      <td>No</td>\n",
       "      <td>DSL</td>\n",
       "      <td>Yes</td>\n",
       "      <td>...</td>\n",
       "      <td>No</td>\n",
       "      <td>No</td>\n",
       "      <td>No</td>\n",
       "      <td>No</td>\n",
       "      <td>Month-to-month</td>\n",
       "      <td>No</td>\n",
       "      <td>Electronic check</td>\n",
       "      <td>50.30</td>\n",
       "      <td>217.1</td>\n",
       "      <td>No</td>\n",
       "    </tr>\n",
       "    <tr>\n",
       "      <th>5900</th>\n",
       "      <td>0117-LFRMW</td>\n",
       "      <td>Male</td>\n",
       "      <td>0</td>\n",
       "      <td>Yes</td>\n",
       "      <td>Yes</td>\n",
       "      <td>37</td>\n",
       "      <td>No</td>\n",
       "      <td>No phone service</td>\n",
       "      <td>DSL</td>\n",
       "      <td>Yes</td>\n",
       "      <td>...</td>\n",
       "      <td>Yes</td>\n",
       "      <td>No</td>\n",
       "      <td>No</td>\n",
       "      <td>No</td>\n",
       "      <td>Month-to-month</td>\n",
       "      <td>No</td>\n",
       "      <td>Bank transfer (automatic)</td>\n",
       "      <td>40.20</td>\n",
       "      <td>1448.8</td>\n",
       "      <td>Yes</td>\n",
       "    </tr>\n",
       "    <tr>\n",
       "      <th>2728</th>\n",
       "      <td>6402-SSEJG</td>\n",
       "      <td>Female</td>\n",
       "      <td>0</td>\n",
       "      <td>No</td>\n",
       "      <td>No</td>\n",
       "      <td>25</td>\n",
       "      <td>No</td>\n",
       "      <td>No phone service</td>\n",
       "      <td>DSL</td>\n",
       "      <td>Yes</td>\n",
       "      <td>...</td>\n",
       "      <td>Yes</td>\n",
       "      <td>No</td>\n",
       "      <td>Yes</td>\n",
       "      <td>Yes</td>\n",
       "      <td>One year</td>\n",
       "      <td>No</td>\n",
       "      <td>Electronic check</td>\n",
       "      <td>61.05</td>\n",
       "      <td>1540.2</td>\n",
       "      <td>No</td>\n",
       "    </tr>\n",
       "    <tr>\n",
       "      <th>4471</th>\n",
       "      <td>2479-BRAMR</td>\n",
       "      <td>Male</td>\n",
       "      <td>1</td>\n",
       "      <td>Yes</td>\n",
       "      <td>No</td>\n",
       "      <td>41</td>\n",
       "      <td>Yes</td>\n",
       "      <td>Yes</td>\n",
       "      <td>Fiber optic</td>\n",
       "      <td>Yes</td>\n",
       "      <td>...</td>\n",
       "      <td>Yes</td>\n",
       "      <td>No</td>\n",
       "      <td>No</td>\n",
       "      <td>No</td>\n",
       "      <td>Month-to-month</td>\n",
       "      <td>Yes</td>\n",
       "      <td>Bank transfer (automatic)</td>\n",
       "      <td>83.75</td>\n",
       "      <td>3273.55</td>\n",
       "      <td>Yes</td>\n",
       "    </tr>\n",
       "  </tbody>\n",
       "</table>\n",
       "<p>10 rows × 21 columns</p>\n",
       "</div>"
      ],
      "text/plain": [
       "      customerID  gender  SeniorCitizen Partner Dependents  tenure  \\\n",
       "4315  9019-QVLZD  Female              0      No         No       1   \n",
       "6374  1293-BSEUN  Female              0     Yes        Yes      72   \n",
       "3735  3489-HHPFY  Female              0     Yes         No       2   \n",
       "6671  5090-EMGTC  Female              0     Yes         No      59   \n",
       "4846  8993-IZEUX    Male              0      No         No       7   \n",
       "1459  3070-BDOQC  Female              0      No         No      60   \n",
       "1539  5071-FBJFS  Female              0     Yes        Yes       4   \n",
       "5900  0117-LFRMW    Male              0     Yes        Yes      37   \n",
       "2728  6402-SSEJG  Female              0      No         No      25   \n",
       "4471  2479-BRAMR    Male              1     Yes         No      41   \n",
       "\n",
       "     PhoneService     MultipleLines InternetService       OnlineSecurity  ...  \\\n",
       "4315          Yes                No     Fiber optic                   No  ...   \n",
       "6374          Yes                No              No  No internet service  ...   \n",
       "3735          Yes               Yes     Fiber optic                   No  ...   \n",
       "6671          Yes                No     Fiber optic                   No  ...   \n",
       "4846          Yes                No     Fiber optic                   No  ...   \n",
       "1459          Yes                No     Fiber optic                   No  ...   \n",
       "1539          Yes                No             DSL                  Yes  ...   \n",
       "5900           No  No phone service             DSL                  Yes  ...   \n",
       "2728           No  No phone service             DSL                  Yes  ...   \n",
       "4471          Yes               Yes     Fiber optic                  Yes  ...   \n",
       "\n",
       "         DeviceProtection          TechSupport          StreamingTV  \\\n",
       "4315                   No                   No                  Yes   \n",
       "6374  No internet service  No internet service  No internet service   \n",
       "3735                   No                   No                  Yes   \n",
       "6671                   No                  Yes                  Yes   \n",
       "4846                   No                   No                   No   \n",
       "1459                  Yes                   No                  Yes   \n",
       "1539                   No                   No                   No   \n",
       "5900                  Yes                   No                   No   \n",
       "2728                  Yes                   No                  Yes   \n",
       "4471                  Yes                   No                   No   \n",
       "\n",
       "          StreamingMovies        Contract PaperlessBilling  \\\n",
       "4315                   No  Month-to-month               No   \n",
       "6374  No internet service        Two year              Yes   \n",
       "3735                   No  Month-to-month              Yes   \n",
       "6671                  Yes        Two year              Yes   \n",
       "4846                   No  Month-to-month               No   \n",
       "1459                  Yes        Two year              Yes   \n",
       "1539                   No  Month-to-month               No   \n",
       "5900                   No  Month-to-month               No   \n",
       "2728                  Yes        One year               No   \n",
       "4471                   No  Month-to-month              Yes   \n",
       "\n",
       "                  PaymentMethod MonthlyCharges  TotalCharges Churn  \n",
       "4315           Electronic check          79.55         79.55   Yes  \n",
       "6374               Mailed check          20.70        1482.3    No  \n",
       "3735           Electronic check          84.05        134.05    No  \n",
       "6671               Mailed check         100.05       6034.85    No  \n",
       "4846  Bank transfer (automatic)          69.15        488.65    No  \n",
       "1459           Electronic check          99.65       5941.05    No  \n",
       "1539           Electronic check          50.30         217.1    No  \n",
       "5900  Bank transfer (automatic)          40.20        1448.8   Yes  \n",
       "2728           Electronic check          61.05        1540.2    No  \n",
       "4471  Bank transfer (automatic)          83.75       3273.55   Yes  \n",
       "\n",
       "[10 rows x 21 columns]"
      ]
     },
     "execution_count": 3,
     "metadata": {},
     "output_type": "execute_result"
    }
   ],
   "source": [
    "# Check the first few samples\n",
    "df.sample(10)"
   ]
  },
  {
   "cell_type": "code",
   "execution_count": 4,
   "id": "598a5ac6",
   "metadata": {},
   "outputs": [
    {
     "data": {
      "text/plain": [
       "(7043, 21)"
      ]
     },
     "execution_count": 4,
     "metadata": {},
     "output_type": "execute_result"
    }
   ],
   "source": [
    "#  shape\n",
    "df.shape  #7043 rows and 21 columns"
   ]
  },
  {
   "cell_type": "code",
   "execution_count": 5,
   "id": "6d10fd51",
   "metadata": {},
   "outputs": [
    {
     "name": "stdout",
     "output_type": "stream",
     "text": [
      "<class 'pandas.core.frame.DataFrame'>\n",
      "RangeIndex: 7043 entries, 0 to 7042\n",
      "Data columns (total 21 columns):\n",
      " #   Column            Non-Null Count  Dtype  \n",
      "---  ------            --------------  -----  \n",
      " 0   customerID        7043 non-null   object \n",
      " 1   gender            7043 non-null   object \n",
      " 2   SeniorCitizen     7043 non-null   int64  \n",
      " 3   Partner           7043 non-null   object \n",
      " 4   Dependents        7043 non-null   object \n",
      " 5   tenure            7043 non-null   int64  \n",
      " 6   PhoneService      7043 non-null   object \n",
      " 7   MultipleLines     7043 non-null   object \n",
      " 8   InternetService   7043 non-null   object \n",
      " 9   OnlineSecurity    7043 non-null   object \n",
      " 10  OnlineBackup      7043 non-null   object \n",
      " 11  DeviceProtection  7043 non-null   object \n",
      " 12  TechSupport       7043 non-null   object \n",
      " 13  StreamingTV       7043 non-null   object \n",
      " 14  StreamingMovies   7043 non-null   object \n",
      " 15  Contract          7043 non-null   object \n",
      " 16  PaperlessBilling  7043 non-null   object \n",
      " 17  PaymentMethod     7043 non-null   object \n",
      " 18  MonthlyCharges    7043 non-null   float64\n",
      " 19  TotalCharges      7043 non-null   object \n",
      " 20  Churn             7043 non-null   object \n",
      "dtypes: float64(1), int64(2), object(18)\n",
      "memory usage: 1.1+ MB\n"
     ]
    }
   ],
   "source": [
    "# info of the data\n",
    "df.info()"
   ]
  },
  {
   "cell_type": "code",
   "execution_count": 6,
   "id": "2db8310f",
   "metadata": {},
   "outputs": [
    {
     "data": {
      "text/html": [
       "<div>\n",
       "<style scoped>\n",
       "    .dataframe tbody tr th:only-of-type {\n",
       "        vertical-align: middle;\n",
       "    }\n",
       "\n",
       "    .dataframe tbody tr th {\n",
       "        vertical-align: top;\n",
       "    }\n",
       "\n",
       "    .dataframe thead th {\n",
       "        text-align: right;\n",
       "    }\n",
       "</style>\n",
       "<table border=\"1\" class=\"dataframe\">\n",
       "  <thead>\n",
       "    <tr style=\"text-align: right;\">\n",
       "      <th></th>\n",
       "      <th>count</th>\n",
       "      <th>mean</th>\n",
       "      <th>std</th>\n",
       "      <th>min</th>\n",
       "      <th>25%</th>\n",
       "      <th>50%</th>\n",
       "      <th>75%</th>\n",
       "      <th>max</th>\n",
       "    </tr>\n",
       "  </thead>\n",
       "  <tbody>\n",
       "    <tr>\n",
       "      <th>SeniorCitizen</th>\n",
       "      <td>7043.0</td>\n",
       "      <td>0.162147</td>\n",
       "      <td>0.368612</td>\n",
       "      <td>0.00</td>\n",
       "      <td>0.0</td>\n",
       "      <td>0.00</td>\n",
       "      <td>0.00</td>\n",
       "      <td>1.00</td>\n",
       "    </tr>\n",
       "    <tr>\n",
       "      <th>tenure</th>\n",
       "      <td>7043.0</td>\n",
       "      <td>32.371149</td>\n",
       "      <td>24.559481</td>\n",
       "      <td>0.00</td>\n",
       "      <td>9.0</td>\n",
       "      <td>29.00</td>\n",
       "      <td>55.00</td>\n",
       "      <td>72.00</td>\n",
       "    </tr>\n",
       "    <tr>\n",
       "      <th>MonthlyCharges</th>\n",
       "      <td>7043.0</td>\n",
       "      <td>64.761692</td>\n",
       "      <td>30.090047</td>\n",
       "      <td>18.25</td>\n",
       "      <td>35.5</td>\n",
       "      <td>70.35</td>\n",
       "      <td>89.85</td>\n",
       "      <td>118.75</td>\n",
       "    </tr>\n",
       "  </tbody>\n",
       "</table>\n",
       "</div>"
      ],
      "text/plain": [
       "                 count       mean        std    min   25%    50%    75%  \\\n",
       "SeniorCitizen   7043.0   0.162147   0.368612   0.00   0.0   0.00   0.00   \n",
       "tenure          7043.0  32.371149  24.559481   0.00   9.0  29.00  55.00   \n",
       "MonthlyCharges  7043.0  64.761692  30.090047  18.25  35.5  70.35  89.85   \n",
       "\n",
       "                   max  \n",
       "SeniorCitizen     1.00  \n",
       "tenure           72.00  \n",
       "MonthlyCharges  118.75  "
      ]
     },
     "execution_count": 6,
     "metadata": {},
     "output_type": "execute_result"
    }
   ],
   "source": [
    "df.describe().T"
   ]
  },
  {
   "cell_type": "code",
   "execution_count": 7,
   "id": "25659733",
   "metadata": {},
   "outputs": [
    {
     "data": {
      "text/html": [
       "<div>\n",
       "<style scoped>\n",
       "    .dataframe tbody tr th:only-of-type {\n",
       "        vertical-align: middle;\n",
       "    }\n",
       "\n",
       "    .dataframe tbody tr th {\n",
       "        vertical-align: top;\n",
       "    }\n",
       "\n",
       "    .dataframe thead th {\n",
       "        text-align: right;\n",
       "    }\n",
       "</style>\n",
       "<table border=\"1\" class=\"dataframe\">\n",
       "  <thead>\n",
       "    <tr style=\"text-align: right;\">\n",
       "      <th></th>\n",
       "      <th>count</th>\n",
       "      <th>unique</th>\n",
       "      <th>top</th>\n",
       "      <th>freq</th>\n",
       "    </tr>\n",
       "  </thead>\n",
       "  <tbody>\n",
       "    <tr>\n",
       "      <th>customerID</th>\n",
       "      <td>7043</td>\n",
       "      <td>7043</td>\n",
       "      <td>7590-VHVEG</td>\n",
       "      <td>1</td>\n",
       "    </tr>\n",
       "    <tr>\n",
       "      <th>gender</th>\n",
       "      <td>7043</td>\n",
       "      <td>2</td>\n",
       "      <td>Male</td>\n",
       "      <td>3555</td>\n",
       "    </tr>\n",
       "    <tr>\n",
       "      <th>Partner</th>\n",
       "      <td>7043</td>\n",
       "      <td>2</td>\n",
       "      <td>No</td>\n",
       "      <td>3641</td>\n",
       "    </tr>\n",
       "    <tr>\n",
       "      <th>Dependents</th>\n",
       "      <td>7043</td>\n",
       "      <td>2</td>\n",
       "      <td>No</td>\n",
       "      <td>4933</td>\n",
       "    </tr>\n",
       "    <tr>\n",
       "      <th>PhoneService</th>\n",
       "      <td>7043</td>\n",
       "      <td>2</td>\n",
       "      <td>Yes</td>\n",
       "      <td>6361</td>\n",
       "    </tr>\n",
       "    <tr>\n",
       "      <th>MultipleLines</th>\n",
       "      <td>7043</td>\n",
       "      <td>3</td>\n",
       "      <td>No</td>\n",
       "      <td>3390</td>\n",
       "    </tr>\n",
       "    <tr>\n",
       "      <th>InternetService</th>\n",
       "      <td>7043</td>\n",
       "      <td>3</td>\n",
       "      <td>Fiber optic</td>\n",
       "      <td>3096</td>\n",
       "    </tr>\n",
       "    <tr>\n",
       "      <th>OnlineSecurity</th>\n",
       "      <td>7043</td>\n",
       "      <td>3</td>\n",
       "      <td>No</td>\n",
       "      <td>3498</td>\n",
       "    </tr>\n",
       "    <tr>\n",
       "      <th>OnlineBackup</th>\n",
       "      <td>7043</td>\n",
       "      <td>3</td>\n",
       "      <td>No</td>\n",
       "      <td>3088</td>\n",
       "    </tr>\n",
       "    <tr>\n",
       "      <th>DeviceProtection</th>\n",
       "      <td>7043</td>\n",
       "      <td>3</td>\n",
       "      <td>No</td>\n",
       "      <td>3095</td>\n",
       "    </tr>\n",
       "    <tr>\n",
       "      <th>TechSupport</th>\n",
       "      <td>7043</td>\n",
       "      <td>3</td>\n",
       "      <td>No</td>\n",
       "      <td>3473</td>\n",
       "    </tr>\n",
       "    <tr>\n",
       "      <th>StreamingTV</th>\n",
       "      <td>7043</td>\n",
       "      <td>3</td>\n",
       "      <td>No</td>\n",
       "      <td>2810</td>\n",
       "    </tr>\n",
       "    <tr>\n",
       "      <th>StreamingMovies</th>\n",
       "      <td>7043</td>\n",
       "      <td>3</td>\n",
       "      <td>No</td>\n",
       "      <td>2785</td>\n",
       "    </tr>\n",
       "    <tr>\n",
       "      <th>Contract</th>\n",
       "      <td>7043</td>\n",
       "      <td>3</td>\n",
       "      <td>Month-to-month</td>\n",
       "      <td>3875</td>\n",
       "    </tr>\n",
       "    <tr>\n",
       "      <th>PaperlessBilling</th>\n",
       "      <td>7043</td>\n",
       "      <td>2</td>\n",
       "      <td>Yes</td>\n",
       "      <td>4171</td>\n",
       "    </tr>\n",
       "    <tr>\n",
       "      <th>PaymentMethod</th>\n",
       "      <td>7043</td>\n",
       "      <td>4</td>\n",
       "      <td>Electronic check</td>\n",
       "      <td>2365</td>\n",
       "    </tr>\n",
       "    <tr>\n",
       "      <th>TotalCharges</th>\n",
       "      <td>7043</td>\n",
       "      <td>6531</td>\n",
       "      <td></td>\n",
       "      <td>11</td>\n",
       "    </tr>\n",
       "    <tr>\n",
       "      <th>Churn</th>\n",
       "      <td>7043</td>\n",
       "      <td>2</td>\n",
       "      <td>No</td>\n",
       "      <td>5174</td>\n",
       "    </tr>\n",
       "  </tbody>\n",
       "</table>\n",
       "</div>"
      ],
      "text/plain": [
       "                 count unique               top  freq\n",
       "customerID        7043   7043        7590-VHVEG     1\n",
       "gender            7043      2              Male  3555\n",
       "Partner           7043      2                No  3641\n",
       "Dependents        7043      2                No  4933\n",
       "PhoneService      7043      2               Yes  6361\n",
       "MultipleLines     7043      3                No  3390\n",
       "InternetService   7043      3       Fiber optic  3096\n",
       "OnlineSecurity    7043      3                No  3498\n",
       "OnlineBackup      7043      3                No  3088\n",
       "DeviceProtection  7043      3                No  3095\n",
       "TechSupport       7043      3                No  3473\n",
       "StreamingTV       7043      3                No  2810\n",
       "StreamingMovies   7043      3                No  2785\n",
       "Contract          7043      3    Month-to-month  3875\n",
       "PaperlessBilling  7043      2               Yes  4171\n",
       "PaymentMethod     7043      4  Electronic check  2365\n",
       "TotalCharges      7043   6531                      11\n",
       "Churn             7043      2                No  5174"
      ]
     },
     "execution_count": 7,
     "metadata": {},
     "output_type": "execute_result"
    }
   ],
   "source": [
    "df.describe(include=object).T"
   ]
  },
  {
   "cell_type": "markdown",
   "id": "842dec27",
   "metadata": {},
   "source": [
    "# ● Data Cleaning and Exploratory Data Analysis (16 points)"
   ]
  },
  {
   "cell_type": "markdown",
   "id": "75b395dc",
   "metadata": {},
   "source": [
    "## 3. Check the percentage of missing values in each column of the data frame. Drop the missing values if there are any (2 points)"
   ]
  },
  {
   "cell_type": "code",
   "execution_count": 8,
   "id": "6309faf4",
   "metadata": {},
   "outputs": [
    {
     "data": {
      "text/plain": [
       "customerID          0.0\n",
       "gender              0.0\n",
       "SeniorCitizen       0.0\n",
       "Partner             0.0\n",
       "Dependents          0.0\n",
       "tenure              0.0\n",
       "PhoneService        0.0\n",
       "MultipleLines       0.0\n",
       "InternetService     0.0\n",
       "OnlineSecurity      0.0\n",
       "OnlineBackup        0.0\n",
       "DeviceProtection    0.0\n",
       "TechSupport         0.0\n",
       "StreamingTV         0.0\n",
       "StreamingMovies     0.0\n",
       "Contract            0.0\n",
       "PaperlessBilling    0.0\n",
       "PaymentMethod       0.0\n",
       "MonthlyCharges      0.0\n",
       "TotalCharges        0.0\n",
       "Churn               0.0\n",
       "dtype: float64"
      ]
     },
     "execution_count": 8,
     "metadata": {},
     "output_type": "execute_result"
    }
   ],
   "source": [
    "#Approach: 1\n",
    "df.isnull().sum()/len(df)*100"
   ]
  },
  {
   "cell_type": "code",
   "execution_count": 9,
   "id": "735eaa8e",
   "metadata": {},
   "outputs": [
    {
     "name": "stdout",
     "output_type": "stream",
     "text": [
      "Percentage of missing value in each column:\n",
      " customerID          0.0\n",
      "gender              0.0\n",
      "SeniorCitizen       0.0\n",
      "Partner             0.0\n",
      "Dependents          0.0\n",
      "tenure              0.0\n",
      "PhoneService        0.0\n",
      "MultipleLines       0.0\n",
      "InternetService     0.0\n",
      "OnlineSecurity      0.0\n",
      "OnlineBackup        0.0\n",
      "DeviceProtection    0.0\n",
      "TechSupport         0.0\n",
      "StreamingTV         0.0\n",
      "StreamingMovies     0.0\n",
      "Contract            0.0\n",
      "PaperlessBilling    0.0\n",
      "PaymentMethod       0.0\n",
      "MonthlyCharges      0.0\n",
      "TotalCharges        0.0\n",
      "Churn               0.0\n",
      "dtype: float64\n"
     ]
    }
   ],
   "source": [
    "# Approach: 2\n",
    "def check_missing_value(df):\n",
    "    ''' Function to check missing values in the dataframe'''\n",
    "    print(\"Percentage of missing value in each column:\\n\", df.isnull().sum()/len(df)*100)\n",
    "    \n",
    "check_missing_value(df)"
   ]
  },
  {
   "cell_type": "code",
   "execution_count": 10,
   "id": "2dd3406b",
   "metadata": {},
   "outputs": [
    {
     "data": {
      "text/plain": [
       "0"
      ]
     },
     "execution_count": 10,
     "metadata": {},
     "output_type": "execute_result"
    }
   ],
   "source": [
    "# Find the total number of missing value\n",
    "df.isnull().sum().sum()"
   ]
  },
  {
   "cell_type": "code",
   "execution_count": 11,
   "id": "0080134c",
   "metadata": {},
   "outputs": [],
   "source": [
    "# Drop the missing value\n",
    "df.dropna(inplace=True)"
   ]
  },
  {
   "cell_type": "markdown",
   "id": "26be1cb4",
   "metadata": {},
   "source": [
    "## 4. Check if there are any duplicate records in the dataset? If any drop them (2)"
   ]
  },
  {
   "cell_type": "code",
   "execution_count": 12,
   "id": "6cbfe95d",
   "metadata": {},
   "outputs": [
    {
     "data": {
      "text/plain": [
       "0"
      ]
     },
     "execution_count": 12,
     "metadata": {},
     "output_type": "execute_result"
    }
   ],
   "source": [
    "#Duplicate records (Quick check):\n",
    "df.duplicated().sum()"
   ]
  },
  {
   "cell_type": "code",
   "execution_count": 13,
   "id": "27d4bfcd",
   "metadata": {},
   "outputs": [
    {
     "data": {
      "text/html": [
       "<div>\n",
       "<style scoped>\n",
       "    .dataframe tbody tr th:only-of-type {\n",
       "        vertical-align: middle;\n",
       "    }\n",
       "\n",
       "    .dataframe tbody tr th {\n",
       "        vertical-align: top;\n",
       "    }\n",
       "\n",
       "    .dataframe thead th {\n",
       "        text-align: right;\n",
       "    }\n",
       "</style>\n",
       "<table border=\"1\" class=\"dataframe\">\n",
       "  <thead>\n",
       "    <tr style=\"text-align: right;\">\n",
       "      <th></th>\n",
       "      <th>customerID</th>\n",
       "      <th>gender</th>\n",
       "      <th>SeniorCitizen</th>\n",
       "      <th>Partner</th>\n",
       "      <th>Dependents</th>\n",
       "      <th>tenure</th>\n",
       "      <th>PhoneService</th>\n",
       "      <th>MultipleLines</th>\n",
       "      <th>InternetService</th>\n",
       "      <th>OnlineSecurity</th>\n",
       "      <th>...</th>\n",
       "      <th>DeviceProtection</th>\n",
       "      <th>TechSupport</th>\n",
       "      <th>StreamingTV</th>\n",
       "      <th>StreamingMovies</th>\n",
       "      <th>Contract</th>\n",
       "      <th>PaperlessBilling</th>\n",
       "      <th>PaymentMethod</th>\n",
       "      <th>MonthlyCharges</th>\n",
       "      <th>TotalCharges</th>\n",
       "      <th>Churn</th>\n",
       "    </tr>\n",
       "  </thead>\n",
       "  <tbody>\n",
       "  </tbody>\n",
       "</table>\n",
       "<p>0 rows × 21 columns</p>\n",
       "</div>"
      ],
      "text/plain": [
       "Empty DataFrame\n",
       "Columns: [customerID, gender, SeniorCitizen, Partner, Dependents, tenure, PhoneService, MultipleLines, InternetService, OnlineSecurity, OnlineBackup, DeviceProtection, TechSupport, StreamingTV, StreamingMovies, Contract, PaperlessBilling, PaymentMethod, MonthlyCharges, TotalCharges, Churn]\n",
       "Index: []\n",
       "\n",
       "[0 rows x 21 columns]"
      ]
     },
     "execution_count": 13,
     "metadata": {},
     "output_type": "execute_result"
    }
   ],
   "source": [
    "# Checking number of duplicate records by function:\n",
    "def check_duplicate_data(df):\n",
    "    duplicate = df[df.duplicated()]\n",
    "    return duplicate\n",
    "\n",
    "duplicate = check_duplicate_data(df)\n",
    "duplicate"
   ]
  },
  {
   "cell_type": "markdown",
   "id": "a0fc7fa4",
   "metadata": {},
   "source": [
    "**We can observe that along all 21 columns there is no duplicate records**"
   ]
  },
  {
   "cell_type": "markdown",
   "id": "ec7dd911",
   "metadata": {},
   "source": [
    "## 5. Drop the columns which you think redundant for the analysis (2 points)"
   ]
  },
  {
   "cell_type": "code",
   "execution_count": 14,
   "id": "abc6cdb9",
   "metadata": {},
   "outputs": [
    {
     "name": "stdout",
     "output_type": "stream",
     "text": [
      "<class 'pandas.core.frame.DataFrame'>\n",
      "RangeIndex: 7043 entries, 0 to 7042\n",
      "Data columns (total 21 columns):\n",
      " #   Column            Non-Null Count  Dtype  \n",
      "---  ------            --------------  -----  \n",
      " 0   customerID        7043 non-null   object \n",
      " 1   gender            7043 non-null   object \n",
      " 2   SeniorCitizen     7043 non-null   int64  \n",
      " 3   Partner           7043 non-null   object \n",
      " 4   Dependents        7043 non-null   object \n",
      " 5   tenure            7043 non-null   int64  \n",
      " 6   PhoneService      7043 non-null   object \n",
      " 7   MultipleLines     7043 non-null   object \n",
      " 8   InternetService   7043 non-null   object \n",
      " 9   OnlineSecurity    7043 non-null   object \n",
      " 10  OnlineBackup      7043 non-null   object \n",
      " 11  DeviceProtection  7043 non-null   object \n",
      " 12  TechSupport       7043 non-null   object \n",
      " 13  StreamingTV       7043 non-null   object \n",
      " 14  StreamingMovies   7043 non-null   object \n",
      " 15  Contract          7043 non-null   object \n",
      " 16  PaperlessBilling  7043 non-null   object \n",
      " 17  PaymentMethod     7043 non-null   object \n",
      " 18  MonthlyCharges    7043 non-null   float64\n",
      " 19  TotalCharges      7043 non-null   object \n",
      " 20  Churn             7043 non-null   object \n",
      "dtypes: float64(1), int64(2), object(18)\n",
      "memory usage: 1.1+ MB\n"
     ]
    }
   ],
   "source": [
    "# Checking info again\n",
    "df.info()"
   ]
  },
  {
   "cell_type": "code",
   "execution_count": 15,
   "id": "eb895f34",
   "metadata": {},
   "outputs": [],
   "source": [
    "df.drop(['customerID'], inplace=True, axis=1)\n"
   ]
  },
  {
   "cell_type": "code",
   "execution_count": 16,
   "id": "e3f18749",
   "metadata": {},
   "outputs": [
    {
     "name": "stdout",
     "output_type": "stream",
     "text": [
      "<class 'pandas.core.frame.DataFrame'>\n",
      "RangeIndex: 7043 entries, 0 to 7042\n",
      "Data columns (total 20 columns):\n",
      " #   Column            Non-Null Count  Dtype  \n",
      "---  ------            --------------  -----  \n",
      " 0   gender            7043 non-null   object \n",
      " 1   SeniorCitizen     7043 non-null   int64  \n",
      " 2   Partner           7043 non-null   object \n",
      " 3   Dependents        7043 non-null   object \n",
      " 4   tenure            7043 non-null   int64  \n",
      " 5   PhoneService      7043 non-null   object \n",
      " 6   MultipleLines     7043 non-null   object \n",
      " 7   InternetService   7043 non-null   object \n",
      " 8   OnlineSecurity    7043 non-null   object \n",
      " 9   OnlineBackup      7043 non-null   object \n",
      " 10  DeviceProtection  7043 non-null   object \n",
      " 11  TechSupport       7043 non-null   object \n",
      " 12  StreamingTV       7043 non-null   object \n",
      " 13  StreamingMovies   7043 non-null   object \n",
      " 14  Contract          7043 non-null   object \n",
      " 15  PaperlessBilling  7043 non-null   object \n",
      " 16  PaymentMethod     7043 non-null   object \n",
      " 17  MonthlyCharges    7043 non-null   float64\n",
      " 18  TotalCharges      7043 non-null   object \n",
      " 19  Churn             7043 non-null   object \n",
      "dtypes: float64(1), int64(2), object(17)\n",
      "memory usage: 1.1+ MB\n"
     ]
    }
   ],
   "source": [
    "df.info()"
   ]
  },
  {
   "cell_type": "markdown",
   "id": "09516ee5",
   "metadata": {},
   "source": [
    "## 6. Encode the categorical variables (2 points)"
   ]
  },
  {
   "cell_type": "code",
   "execution_count": 17,
   "id": "40992c6e",
   "metadata": {},
   "outputs": [
    {
     "data": {
      "text/html": [
       "<div>\n",
       "<style scoped>\n",
       "    .dataframe tbody tr th:only-of-type {\n",
       "        vertical-align: middle;\n",
       "    }\n",
       "\n",
       "    .dataframe tbody tr th {\n",
       "        vertical-align: top;\n",
       "    }\n",
       "\n",
       "    .dataframe thead th {\n",
       "        text-align: right;\n",
       "    }\n",
       "</style>\n",
       "<table border=\"1\" class=\"dataframe\">\n",
       "  <thead>\n",
       "    <tr style=\"text-align: right;\">\n",
       "      <th></th>\n",
       "      <th>gender</th>\n",
       "      <th>SeniorCitizen</th>\n",
       "      <th>Partner</th>\n",
       "      <th>Dependents</th>\n",
       "      <th>tenure</th>\n",
       "      <th>PhoneService</th>\n",
       "      <th>MultipleLines</th>\n",
       "      <th>InternetService</th>\n",
       "      <th>OnlineSecurity</th>\n",
       "      <th>OnlineBackup</th>\n",
       "      <th>DeviceProtection</th>\n",
       "      <th>TechSupport</th>\n",
       "      <th>StreamingTV</th>\n",
       "      <th>StreamingMovies</th>\n",
       "      <th>Contract</th>\n",
       "      <th>PaperlessBilling</th>\n",
       "      <th>PaymentMethod</th>\n",
       "      <th>MonthlyCharges</th>\n",
       "      <th>TotalCharges</th>\n",
       "      <th>Churn</th>\n",
       "    </tr>\n",
       "  </thead>\n",
       "  <tbody>\n",
       "    <tr>\n",
       "      <th>0</th>\n",
       "      <td>0</td>\n",
       "      <td>0</td>\n",
       "      <td>1</td>\n",
       "      <td>0</td>\n",
       "      <td>1</td>\n",
       "      <td>0</td>\n",
       "      <td>1</td>\n",
       "      <td>0</td>\n",
       "      <td>0</td>\n",
       "      <td>2</td>\n",
       "      <td>0</td>\n",
       "      <td>0</td>\n",
       "      <td>0</td>\n",
       "      <td>0</td>\n",
       "      <td>0</td>\n",
       "      <td>1</td>\n",
       "      <td>2</td>\n",
       "      <td>29.85</td>\n",
       "      <td>2505</td>\n",
       "      <td>0</td>\n",
       "    </tr>\n",
       "    <tr>\n",
       "      <th>1</th>\n",
       "      <td>1</td>\n",
       "      <td>0</td>\n",
       "      <td>0</td>\n",
       "      <td>0</td>\n",
       "      <td>34</td>\n",
       "      <td>1</td>\n",
       "      <td>0</td>\n",
       "      <td>0</td>\n",
       "      <td>2</td>\n",
       "      <td>0</td>\n",
       "      <td>2</td>\n",
       "      <td>0</td>\n",
       "      <td>0</td>\n",
       "      <td>0</td>\n",
       "      <td>1</td>\n",
       "      <td>0</td>\n",
       "      <td>3</td>\n",
       "      <td>56.95</td>\n",
       "      <td>1466</td>\n",
       "      <td>0</td>\n",
       "    </tr>\n",
       "    <tr>\n",
       "      <th>2</th>\n",
       "      <td>1</td>\n",
       "      <td>0</td>\n",
       "      <td>0</td>\n",
       "      <td>0</td>\n",
       "      <td>2</td>\n",
       "      <td>1</td>\n",
       "      <td>0</td>\n",
       "      <td>0</td>\n",
       "      <td>2</td>\n",
       "      <td>2</td>\n",
       "      <td>0</td>\n",
       "      <td>0</td>\n",
       "      <td>0</td>\n",
       "      <td>0</td>\n",
       "      <td>0</td>\n",
       "      <td>1</td>\n",
       "      <td>3</td>\n",
       "      <td>53.85</td>\n",
       "      <td>157</td>\n",
       "      <td>1</td>\n",
       "    </tr>\n",
       "    <tr>\n",
       "      <th>3</th>\n",
       "      <td>1</td>\n",
       "      <td>0</td>\n",
       "      <td>0</td>\n",
       "      <td>0</td>\n",
       "      <td>45</td>\n",
       "      <td>0</td>\n",
       "      <td>1</td>\n",
       "      <td>0</td>\n",
       "      <td>2</td>\n",
       "      <td>0</td>\n",
       "      <td>2</td>\n",
       "      <td>2</td>\n",
       "      <td>0</td>\n",
       "      <td>0</td>\n",
       "      <td>1</td>\n",
       "      <td>0</td>\n",
       "      <td>0</td>\n",
       "      <td>42.30</td>\n",
       "      <td>1400</td>\n",
       "      <td>0</td>\n",
       "    </tr>\n",
       "    <tr>\n",
       "      <th>4</th>\n",
       "      <td>0</td>\n",
       "      <td>0</td>\n",
       "      <td>0</td>\n",
       "      <td>0</td>\n",
       "      <td>2</td>\n",
       "      <td>1</td>\n",
       "      <td>0</td>\n",
       "      <td>1</td>\n",
       "      <td>0</td>\n",
       "      <td>0</td>\n",
       "      <td>0</td>\n",
       "      <td>0</td>\n",
       "      <td>0</td>\n",
       "      <td>0</td>\n",
       "      <td>0</td>\n",
       "      <td>1</td>\n",
       "      <td>2</td>\n",
       "      <td>70.70</td>\n",
       "      <td>925</td>\n",
       "      <td>1</td>\n",
       "    </tr>\n",
       "  </tbody>\n",
       "</table>\n",
       "</div>"
      ],
      "text/plain": [
       "   gender  SeniorCitizen  Partner  Dependents  tenure  PhoneService  \\\n",
       "0       0              0        1           0       1             0   \n",
       "1       1              0        0           0      34             1   \n",
       "2       1              0        0           0       2             1   \n",
       "3       1              0        0           0      45             0   \n",
       "4       0              0        0           0       2             1   \n",
       "\n",
       "   MultipleLines  InternetService  OnlineSecurity  OnlineBackup  \\\n",
       "0              1                0               0             2   \n",
       "1              0                0               2             0   \n",
       "2              0                0               2             2   \n",
       "3              1                0               2             0   \n",
       "4              0                1               0             0   \n",
       "\n",
       "   DeviceProtection  TechSupport  StreamingTV  StreamingMovies  Contract  \\\n",
       "0                 0            0            0                0         0   \n",
       "1                 2            0            0                0         1   \n",
       "2                 0            0            0                0         0   \n",
       "3                 2            2            0                0         1   \n",
       "4                 0            0            0                0         0   \n",
       "\n",
       "   PaperlessBilling  PaymentMethod  MonthlyCharges  TotalCharges  Churn  \n",
       "0                 1              2           29.85          2505      0  \n",
       "1                 0              3           56.95          1466      0  \n",
       "2                 1              3           53.85           157      1  \n",
       "3                 0              0           42.30          1400      0  \n",
       "4                 1              2           70.70           925      1  "
      ]
     },
     "execution_count": 17,
     "metadata": {},
     "output_type": "execute_result"
    }
   ],
   "source": [
    "# Encode the categorical variable with LabelEncoder:\n",
    "object_type_variable = [i for i in df.columns if df.dtypes[i] == object]\n",
    "object_type_variable\n",
    "\n",
    "le = LabelEncoder()\n",
    "\n",
    "def encoder(df):\n",
    "    for i in object_type_variable:\n",
    "        q = le.fit_transform(df[i].astype(str))\n",
    "        df[i] = q\n",
    "        df[i] = df[i].astype(int)\n",
    "        \n",
    "encoder(df)\n",
    "df.head(5)"
   ]
  },
  {
   "cell_type": "code",
   "execution_count": 18,
   "id": "5d3c7b1c",
   "metadata": {},
   "outputs": [],
   "source": [
    "# Encoder(another way)\n",
    "# numerical_columns = df.select_dtypes(include=np.number).columns.tolist()\n",
    "# categorical_columns = df.select_dtypes(include=object).columns.tolist()\n",
    "\n",
    "# print(\"Numerical columns: \", numerical_columns)\n",
    "# print('~'*50)\n",
    "# print(\"Categorical columns: \", categorical_columns)\n",
    "# print('~'*50)"
   ]
  },
  {
   "cell_type": "code",
   "execution_count": 19,
   "id": "74962c0a",
   "metadata": {},
   "outputs": [
    {
     "name": "stdout",
     "output_type": "stream",
     "text": [
      "<class 'pandas.core.frame.DataFrame'>\n",
      "RangeIndex: 7043 entries, 0 to 7042\n",
      "Data columns (total 20 columns):\n",
      " #   Column            Non-Null Count  Dtype  \n",
      "---  ------            --------------  -----  \n",
      " 0   gender            7043 non-null   int32  \n",
      " 1   SeniorCitizen     7043 non-null   int64  \n",
      " 2   Partner           7043 non-null   int32  \n",
      " 3   Dependents        7043 non-null   int32  \n",
      " 4   tenure            7043 non-null   int64  \n",
      " 5   PhoneService      7043 non-null   int32  \n",
      " 6   MultipleLines     7043 non-null   int32  \n",
      " 7   InternetService   7043 non-null   int32  \n",
      " 8   OnlineSecurity    7043 non-null   int32  \n",
      " 9   OnlineBackup      7043 non-null   int32  \n",
      " 10  DeviceProtection  7043 non-null   int32  \n",
      " 11  TechSupport       7043 non-null   int32  \n",
      " 12  StreamingTV       7043 non-null   int32  \n",
      " 13  StreamingMovies   7043 non-null   int32  \n",
      " 14  Contract          7043 non-null   int32  \n",
      " 15  PaperlessBilling  7043 non-null   int32  \n",
      " 16  PaymentMethod     7043 non-null   int32  \n",
      " 17  MonthlyCharges    7043 non-null   float64\n",
      " 18  TotalCharges      7043 non-null   int32  \n",
      " 19  Churn             7043 non-null   int32  \n",
      "dtypes: float64(1), int32(17), int64(2)\n",
      "memory usage: 632.9 KB\n"
     ]
    }
   ],
   "source": [
    "df.info()"
   ]
  },
  {
   "cell_type": "markdown",
   "id": "cd828c0b",
   "metadata": {},
   "source": [
    "## 7. Perform a detailed univariate, bivariate, and multivariate analysis with appropriate plots and add detailed comments after each analysis. (8 points)"
   ]
  },
  {
   "cell_type": "code",
   "execution_count": 20,
   "id": "832eafd1",
   "metadata": {},
   "outputs": [
    {
     "data": {
      "text/html": [
       "<div>\n",
       "<style scoped>\n",
       "    .dataframe tbody tr th:only-of-type {\n",
       "        vertical-align: middle;\n",
       "    }\n",
       "\n",
       "    .dataframe tbody tr th {\n",
       "        vertical-align: top;\n",
       "    }\n",
       "\n",
       "    .dataframe thead th {\n",
       "        text-align: right;\n",
       "    }\n",
       "</style>\n",
       "<table border=\"1\" class=\"dataframe\">\n",
       "  <thead>\n",
       "    <tr style=\"text-align: right;\">\n",
       "      <th></th>\n",
       "      <th>count</th>\n",
       "      <th>mean</th>\n",
       "      <th>std</th>\n",
       "      <th>min</th>\n",
       "      <th>25%</th>\n",
       "      <th>50%</th>\n",
       "      <th>75%</th>\n",
       "      <th>max</th>\n",
       "    </tr>\n",
       "  </thead>\n",
       "  <tbody>\n",
       "    <tr>\n",
       "      <th>gender</th>\n",
       "      <td>7043.0</td>\n",
       "      <td>0.504756</td>\n",
       "      <td>0.500013</td>\n",
       "      <td>0.00</td>\n",
       "      <td>0.0</td>\n",
       "      <td>1.00</td>\n",
       "      <td>1.00</td>\n",
       "      <td>1.00</td>\n",
       "    </tr>\n",
       "    <tr>\n",
       "      <th>SeniorCitizen</th>\n",
       "      <td>7043.0</td>\n",
       "      <td>0.162147</td>\n",
       "      <td>0.368612</td>\n",
       "      <td>0.00</td>\n",
       "      <td>0.0</td>\n",
       "      <td>0.00</td>\n",
       "      <td>0.00</td>\n",
       "      <td>1.00</td>\n",
       "    </tr>\n",
       "    <tr>\n",
       "      <th>Partner</th>\n",
       "      <td>7043.0</td>\n",
       "      <td>0.483033</td>\n",
       "      <td>0.499748</td>\n",
       "      <td>0.00</td>\n",
       "      <td>0.0</td>\n",
       "      <td>0.00</td>\n",
       "      <td>1.00</td>\n",
       "      <td>1.00</td>\n",
       "    </tr>\n",
       "    <tr>\n",
       "      <th>Dependents</th>\n",
       "      <td>7043.0</td>\n",
       "      <td>0.299588</td>\n",
       "      <td>0.458110</td>\n",
       "      <td>0.00</td>\n",
       "      <td>0.0</td>\n",
       "      <td>0.00</td>\n",
       "      <td>1.00</td>\n",
       "      <td>1.00</td>\n",
       "    </tr>\n",
       "    <tr>\n",
       "      <th>tenure</th>\n",
       "      <td>7043.0</td>\n",
       "      <td>32.371149</td>\n",
       "      <td>24.559481</td>\n",
       "      <td>0.00</td>\n",
       "      <td>9.0</td>\n",
       "      <td>29.00</td>\n",
       "      <td>55.00</td>\n",
       "      <td>72.00</td>\n",
       "    </tr>\n",
       "    <tr>\n",
       "      <th>PhoneService</th>\n",
       "      <td>7043.0</td>\n",
       "      <td>0.903166</td>\n",
       "      <td>0.295752</td>\n",
       "      <td>0.00</td>\n",
       "      <td>1.0</td>\n",
       "      <td>1.00</td>\n",
       "      <td>1.00</td>\n",
       "      <td>1.00</td>\n",
       "    </tr>\n",
       "    <tr>\n",
       "      <th>MultipleLines</th>\n",
       "      <td>7043.0</td>\n",
       "      <td>0.940508</td>\n",
       "      <td>0.948554</td>\n",
       "      <td>0.00</td>\n",
       "      <td>0.0</td>\n",
       "      <td>1.00</td>\n",
       "      <td>2.00</td>\n",
       "      <td>2.00</td>\n",
       "    </tr>\n",
       "    <tr>\n",
       "      <th>InternetService</th>\n",
       "      <td>7043.0</td>\n",
       "      <td>0.872923</td>\n",
       "      <td>0.737796</td>\n",
       "      <td>0.00</td>\n",
       "      <td>0.0</td>\n",
       "      <td>1.00</td>\n",
       "      <td>1.00</td>\n",
       "      <td>2.00</td>\n",
       "    </tr>\n",
       "    <tr>\n",
       "      <th>OnlineSecurity</th>\n",
       "      <td>7043.0</td>\n",
       "      <td>0.790004</td>\n",
       "      <td>0.859848</td>\n",
       "      <td>0.00</td>\n",
       "      <td>0.0</td>\n",
       "      <td>1.00</td>\n",
       "      <td>2.00</td>\n",
       "      <td>2.00</td>\n",
       "    </tr>\n",
       "    <tr>\n",
       "      <th>OnlineBackup</th>\n",
       "      <td>7043.0</td>\n",
       "      <td>0.906432</td>\n",
       "      <td>0.880162</td>\n",
       "      <td>0.00</td>\n",
       "      <td>0.0</td>\n",
       "      <td>1.00</td>\n",
       "      <td>2.00</td>\n",
       "      <td>2.00</td>\n",
       "    </tr>\n",
       "    <tr>\n",
       "      <th>DeviceProtection</th>\n",
       "      <td>7043.0</td>\n",
       "      <td>0.904444</td>\n",
       "      <td>0.879949</td>\n",
       "      <td>0.00</td>\n",
       "      <td>0.0</td>\n",
       "      <td>1.00</td>\n",
       "      <td>2.00</td>\n",
       "      <td>2.00</td>\n",
       "    </tr>\n",
       "    <tr>\n",
       "      <th>TechSupport</th>\n",
       "      <td>7043.0</td>\n",
       "      <td>0.797104</td>\n",
       "      <td>0.861551</td>\n",
       "      <td>0.00</td>\n",
       "      <td>0.0</td>\n",
       "      <td>1.00</td>\n",
       "      <td>2.00</td>\n",
       "      <td>2.00</td>\n",
       "    </tr>\n",
       "    <tr>\n",
       "      <th>StreamingTV</th>\n",
       "      <td>7043.0</td>\n",
       "      <td>0.985376</td>\n",
       "      <td>0.885002</td>\n",
       "      <td>0.00</td>\n",
       "      <td>0.0</td>\n",
       "      <td>1.00</td>\n",
       "      <td>2.00</td>\n",
       "      <td>2.00</td>\n",
       "    </tr>\n",
       "    <tr>\n",
       "      <th>StreamingMovies</th>\n",
       "      <td>7043.0</td>\n",
       "      <td>0.992475</td>\n",
       "      <td>0.885091</td>\n",
       "      <td>0.00</td>\n",
       "      <td>0.0</td>\n",
       "      <td>1.00</td>\n",
       "      <td>2.00</td>\n",
       "      <td>2.00</td>\n",
       "    </tr>\n",
       "    <tr>\n",
       "      <th>Contract</th>\n",
       "      <td>7043.0</td>\n",
       "      <td>0.690473</td>\n",
       "      <td>0.833755</td>\n",
       "      <td>0.00</td>\n",
       "      <td>0.0</td>\n",
       "      <td>0.00</td>\n",
       "      <td>1.00</td>\n",
       "      <td>2.00</td>\n",
       "    </tr>\n",
       "    <tr>\n",
       "      <th>PaperlessBilling</th>\n",
       "      <td>7043.0</td>\n",
       "      <td>0.592219</td>\n",
       "      <td>0.491457</td>\n",
       "      <td>0.00</td>\n",
       "      <td>0.0</td>\n",
       "      <td>1.00</td>\n",
       "      <td>1.00</td>\n",
       "      <td>1.00</td>\n",
       "    </tr>\n",
       "    <tr>\n",
       "      <th>PaymentMethod</th>\n",
       "      <td>7043.0</td>\n",
       "      <td>1.574329</td>\n",
       "      <td>1.068104</td>\n",
       "      <td>0.00</td>\n",
       "      <td>1.0</td>\n",
       "      <td>2.00</td>\n",
       "      <td>2.00</td>\n",
       "      <td>3.00</td>\n",
       "    </tr>\n",
       "    <tr>\n",
       "      <th>MonthlyCharges</th>\n",
       "      <td>7043.0</td>\n",
       "      <td>64.761692</td>\n",
       "      <td>30.090047</td>\n",
       "      <td>18.25</td>\n",
       "      <td>35.5</td>\n",
       "      <td>70.35</td>\n",
       "      <td>89.85</td>\n",
       "      <td>118.75</td>\n",
       "    </tr>\n",
       "    <tr>\n",
       "      <th>TotalCharges</th>\n",
       "      <td>7043.0</td>\n",
       "      <td>3257.794122</td>\n",
       "      <td>1888.693496</td>\n",
       "      <td>0.00</td>\n",
       "      <td>1609.0</td>\n",
       "      <td>3249.00</td>\n",
       "      <td>4901.50</td>\n",
       "      <td>6530.00</td>\n",
       "    </tr>\n",
       "    <tr>\n",
       "      <th>Churn</th>\n",
       "      <td>7043.0</td>\n",
       "      <td>0.265370</td>\n",
       "      <td>0.441561</td>\n",
       "      <td>0.00</td>\n",
       "      <td>0.0</td>\n",
       "      <td>0.00</td>\n",
       "      <td>1.00</td>\n",
       "      <td>1.00</td>\n",
       "    </tr>\n",
       "  </tbody>\n",
       "</table>\n",
       "</div>"
      ],
      "text/plain": [
       "                   count         mean          std    min     25%      50%  \\\n",
       "gender            7043.0     0.504756     0.500013   0.00     0.0     1.00   \n",
       "SeniorCitizen     7043.0     0.162147     0.368612   0.00     0.0     0.00   \n",
       "Partner           7043.0     0.483033     0.499748   0.00     0.0     0.00   \n",
       "Dependents        7043.0     0.299588     0.458110   0.00     0.0     0.00   \n",
       "tenure            7043.0    32.371149    24.559481   0.00     9.0    29.00   \n",
       "PhoneService      7043.0     0.903166     0.295752   0.00     1.0     1.00   \n",
       "MultipleLines     7043.0     0.940508     0.948554   0.00     0.0     1.00   \n",
       "InternetService   7043.0     0.872923     0.737796   0.00     0.0     1.00   \n",
       "OnlineSecurity    7043.0     0.790004     0.859848   0.00     0.0     1.00   \n",
       "OnlineBackup      7043.0     0.906432     0.880162   0.00     0.0     1.00   \n",
       "DeviceProtection  7043.0     0.904444     0.879949   0.00     0.0     1.00   \n",
       "TechSupport       7043.0     0.797104     0.861551   0.00     0.0     1.00   \n",
       "StreamingTV       7043.0     0.985376     0.885002   0.00     0.0     1.00   \n",
       "StreamingMovies   7043.0     0.992475     0.885091   0.00     0.0     1.00   \n",
       "Contract          7043.0     0.690473     0.833755   0.00     0.0     0.00   \n",
       "PaperlessBilling  7043.0     0.592219     0.491457   0.00     0.0     1.00   \n",
       "PaymentMethod     7043.0     1.574329     1.068104   0.00     1.0     2.00   \n",
       "MonthlyCharges    7043.0    64.761692    30.090047  18.25    35.5    70.35   \n",
       "TotalCharges      7043.0  3257.794122  1888.693496   0.00  1609.0  3249.00   \n",
       "Churn             7043.0     0.265370     0.441561   0.00     0.0     0.00   \n",
       "\n",
       "                      75%      max  \n",
       "gender               1.00     1.00  \n",
       "SeniorCitizen        0.00     1.00  \n",
       "Partner              1.00     1.00  \n",
       "Dependents           1.00     1.00  \n",
       "tenure              55.00    72.00  \n",
       "PhoneService         1.00     1.00  \n",
       "MultipleLines        2.00     2.00  \n",
       "InternetService      1.00     2.00  \n",
       "OnlineSecurity       2.00     2.00  \n",
       "OnlineBackup         2.00     2.00  \n",
       "DeviceProtection     2.00     2.00  \n",
       "TechSupport          2.00     2.00  \n",
       "StreamingTV          2.00     2.00  \n",
       "StreamingMovies      2.00     2.00  \n",
       "Contract             1.00     2.00  \n",
       "PaperlessBilling     1.00     1.00  \n",
       "PaymentMethod        2.00     3.00  \n",
       "MonthlyCharges      89.85   118.75  \n",
       "TotalCharges      4901.50  6530.00  \n",
       "Churn                1.00     1.00  "
      ]
     },
     "execution_count": 20,
     "metadata": {},
     "output_type": "execute_result"
    }
   ],
   "source": [
    "# #7: Univariate, Bivariate, Multivariate Analysis:\n",
    "df2 = df.select_dtypes(include=np.number).describe().T\n",
    "df2"
   ]
  },
  {
   "cell_type": "code",
   "execution_count": 21,
   "id": "3b314d15",
   "metadata": {},
   "outputs": [
    {
     "data": {
      "text/plain": [
       "<Axes: >"
      ]
     },
     "execution_count": 21,
     "metadata": {},
     "output_type": "execute_result"
    },
    {
     "data": {
      "image/png": "[encoded data removed]",
      "text/plain": [
       "<Figure size 640x480 with 2 Axes>"
      ]
     },
     "metadata": {},
     "output_type": "display_data"
    }
   ],
   "source": [
    "dfc2 = dfc.select_dtypes(include=np.number).describe()\n",
    "sns.heatmap(dfc2.corr(), annot=True, cmap='viridis')"
   ]
  },
  {
   "cell_type": "code",
   "execution_count": 22,
   "id": "297777b0",
   "metadata": {},
   "outputs": [
    {
     "data": {
      "image/png": "[encoded data removed]",
      "text/plain": [
       "<Figure size 640x480 with 1 Axes>"
      ]
     },
     "metadata": {},
     "output_type": "display_data"
    }
   ],
   "source": [
    "# Univariate analysis focuses on exploring one variable at a time.\n",
    "sns.histplot(df2)\n",
    "plt.title('Distribution of Numerical Column')\n",
    "plt.show()"
   ]
  },
  {
   "cell_type": "raw",
   "id": "1926572e",
   "metadata": {},
   "source": [
    "Comments: Univariate analysis helps understand the distribution of individual variables. For numerical columns, histograms provide insights into the distribution shape, while count plots for categorical variables show the frequency of each category."
   ]
  },
  {
   "cell_type": "code",
   "execution_count": 23,
   "id": "25282184",
   "metadata": {},
   "outputs": [
    {
     "data": {
      "text/plain": [
       "<Axes: xlabel='tenure', ylabel='DeviceProtection'>"
      ]
     },
     "execution_count": 23,
     "metadata": {},
     "output_type": "execute_result"
    },
    {
     "data": {
      "image/png": "[encoded data removed]",
      "text/plain": [
       "<Figure size 640x480 with 1 Axes>"
      ]
     },
     "metadata": {},
     "output_type": "display_data"
    }
   ],
   "source": [
    "# Bivariate analysis explores the relationship between two variables.\n",
    "sns.scatterplot(x='tenure',y='DeviceProtection', data=df)\n",
    "\n"
   ]
  },
  {
   "cell_type": "code",
   "execution_count": 24,
   "id": "cef354d5",
   "metadata": {},
   "outputs": [
    {
     "data": {
      "text/plain": [
       "<Axes: xlabel='tenure', ylabel='DeviceProtection'>"
      ]
     },
     "execution_count": 24,
     "metadata": {},
     "output_type": "execute_result"
    },
    {
     "data": {
      "image/png": "[encoded data removed]",
      "text/plain": [
       "<Figure size 640x480 with 1 Axes>"
      ]
     },
     "metadata": {},
     "output_type": "display_data"
    }
   ],
   "source": [
    "sns.boxplot(x='tenure',y='DeviceProtection', data=df)\n",
    "\n"
   ]
  },
  {
   "cell_type": "raw",
   "id": "e74bc4d2",
   "metadata": {},
   "source": [
    "Bivariate analysis helps identify patterns, correlations, or differences between two variables. Scatter plots visualize the relationship between two numerical variables, while boxplots show the distribution of a numerical variable across categories."
   ]
  },
  {
   "cell_type": "code",
   "execution_count": 25,
   "id": "6c1b3c1b",
   "metadata": {},
   "outputs": [],
   "source": [
    "# Multivariate analysis involves exploring the relationship between more than two variables.\n",
    "# sns.pairplot(df)\n",
    "\n"
   ]
  },
  {
   "cell_type": "raw",
   "id": "35dede66",
   "metadata": {},
   "source": [
    "#Multivariate analysis is essential for understanding complex relationships. \n",
    "#Pairplots allow visualization of relationships between multiple numerical variables,\n",
    "# with a hue representing a categorical variable."
   ]
  },
  {
   "cell_type": "code",
   "execution_count": 26,
   "id": "6f7cd0f9",
   "metadata": {},
   "outputs": [
    {
     "data": {
      "text/plain": [
       "<Axes: ylabel='count'>"
      ]
     },
     "execution_count": 26,
     "metadata": {},
     "output_type": "execute_result"
    },
    {
     "data": {
      "image/png": "[encoded data removed]",
      "text/plain": [
       "<Figure size 640x480 with 1 Axes>"
      ]
     },
     "metadata": {},
     "output_type": "display_data"
    }
   ],
   "source": [
    "df['Churn'].value_counts().plot(kind='pie', autopct='%1.0f%%')"
   ]
  },
  {
   "cell_type": "markdown",
   "id": "e0413d8f",
   "metadata": {},
   "source": [
    "We can see that in churn no is greater than yes that mean 27% customer has left within one month"
   ]
  },
  {
   "cell_type": "code",
   "execution_count": 27,
   "id": "6623b599",
   "metadata": {},
   "outputs": [
    {
     "data": {
      "text/plain": [
       "[]"
      ]
     },
     "execution_count": 27,
     "metadata": {},
     "output_type": "execute_result"
    },
    {
     "data": {
      "image/png": "[encoded data removed]",
      "text/plain": [
       "<Figure size 640x480 with 1 Axes>"
      ]
     },
     "metadata": {},
     "output_type": "display_data"
    }
   ],
   "source": [
    "sns.barplot(x = df['gender'].values, y = df['gender'].index)\n",
    "plt.plot()"
   ]
  },
  {
   "cell_type": "markdown",
   "id": "f493217b",
   "metadata": {},
   "source": [
    "here \"0\" is for female and \"1\" is for male. we can see that there is almost equal gender with a little bit higher no of females in the custonmers"
   ]
  },
  {
   "cell_type": "code",
   "execution_count": 28,
   "id": "e9287f2d",
   "metadata": {},
   "outputs": [
    {
     "data": {
      "image/png": "[encoded data removed]",
      "text/plain": [
       "<Figure size 640x480 with 1 Axes>"
      ]
     },
     "metadata": {},
     "output_type": "display_data"
    }
   ],
   "source": [
    "sns.distplot(df['MonthlyCharges'])\n",
    "plt.show()"
   ]
  },
  {
   "cell_type": "markdown",
   "id": "f523f664",
   "metadata": {},
   "source": [
    "The monthly charge amount is at peak around 20 and then it is almost continous in 75-85 "
   ]
  },
  {
   "cell_type": "code",
   "execution_count": 29,
   "id": "1c342e6d",
   "metadata": {},
   "outputs": [
    {
     "data": {
      "image/png": "[encoded data removed]",
      "text/plain": [
       "<Figure size 640x480 with 1 Axes>"
      ]
     },
     "metadata": {},
     "output_type": "display_data"
    }
   ],
   "source": [
    "sns.barplot(x = df['PaymentMethod'].values, y = df['PaymentMethod'].index)\n",
    "plt.xticks(rotation=45)\n",
    "plt.show()"
   ]
  },
  {
   "cell_type": "code",
   "execution_count": 30,
   "id": "9826d158",
   "metadata": {},
   "outputs": [
    {
     "data": {
      "image/png": "[encoded data removed]",
      "text/plain": [
       "<Figure size 1000x700 with 1 Axes>"
      ]
     },
     "metadata": {},
     "output_type": "display_data"
    }
   ],
   "source": [
    "ds1 = df['tenure']\n",
    "ds2 = df['Churn']\n",
    "ds = [ds1,ds2]\n",
    "\n",
    "figure, ax = plt.subplots(figsize=(10, 7))\n",
    "bp = ax.boxplot(ds)\n",
    "\n",
    "plt.show()"
   ]
  },
  {
   "cell_type": "markdown",
   "id": "12208903",
   "metadata": {},
   "source": [
    "# ● Data Preparation for model building (6 points"
   ]
  },
  {
   "cell_type": "markdown",
   "id": "04aee4ca",
   "metadata": {},
   "source": [
    "## 8. Store the target column (i.e. Churn) in the y variable and the rest of the columns in the X variable (2 points)"
   ]
  },
  {
   "cell_type": "code",
   "execution_count": 31,
   "id": "60da2071",
   "metadata": {},
   "outputs": [
    {
     "name": "stdout",
     "output_type": "stream",
     "text": [
      "Index(['gender', 'SeniorCitizen', 'Partner', 'Dependents', 'tenure',\n",
      "       'PhoneService', 'MultipleLines', 'InternetService', 'OnlineSecurity',\n",
      "       'OnlineBackup', 'DeviceProtection', 'TechSupport', 'StreamingTV',\n",
      "       'StreamingMovies', 'Contract', 'PaperlessBilling', 'PaymentMethod',\n",
      "       'MonthlyCharges', 'TotalCharges', 'Churn'],\n",
      "      dtype='object')\n"
     ]
    }
   ],
   "source": [
    "print(df.columns)\n",
    "\n"
   ]
  },
  {
   "cell_type": "code",
   "execution_count": 32,
   "id": "8d8af0a7",
   "metadata": {},
   "outputs": [],
   "source": [
    "X = df.drop('Churn', axis=1)\n",
    "y = df['Churn']"
   ]
  },
  {
   "cell_type": "markdown",
   "id": "f586f780",
   "metadata": {},
   "source": [
    "## 9. Split the dataset into two parts (i.e. 70% train and 30% test) (2 points)"
   ]
  },
  {
   "cell_type": "code",
   "execution_count": 33,
   "id": "17546df0",
   "metadata": {},
   "outputs": [
    {
     "name": "stdout",
     "output_type": "stream",
     "text": [
      "Shape of X_train and X_test: (4930, 19) (2113, 19)\n",
      "Shape of y_train and y_test: (4930,) (2113,)\n"
     ]
    }
   ],
   "source": [
    "# Split the dataset into 70% train and 30% test\n",
    "X_train, X_test, y_train, y_test = train_test_split(X, y, test_size = 0.3)\n",
    "\n",
    "# Print the shapes of the train and test data\n",
    "print(\"Shape of X_train and X_test:\", X_train.shape, X_test.shape)\n",
    "print(\"Shape of y_train and y_test:\", y_train.shape, y_test.shape)"
   ]
  },
  {
   "cell_type": "markdown",
   "id": "808dc4ca",
   "metadata": {},
   "source": [
    "## 10. Standardize the columns using z-score scaling approach (2 points)"
   ]
  },
  {
   "cell_type": "code",
   "execution_count": 34,
   "id": "a39548df",
   "metadata": {},
   "outputs": [],
   "source": [
    "std_scaler = StandardScaler()\n",
    "\n",
    "X_train = std_scaler.fit_transform(X_train)\n",
    "X_test = std_scaler.fit_transform(X_test)"
   ]
  },
  {
   "cell_type": "code",
   "execution_count": 37,
   "id": "c929cbba",
   "metadata": {},
   "outputs": [
    {
     "name": "stdout",
     "output_type": "stream",
     "text": [
      "[[ 0.97793108 -0.43518364 -0.95516237 -0.65971632  0.56907976  0.3322053\n",
      "   1.12200211  0.17906668 -0.92389967  1.24430418  1.24692237 -0.91730322\n",
      "   1.16351634 -1.1054762   0.38168186  0.82064337 -0.54140857  1.02252308\n",
      "   0.28042694]\n",
      " [-1.02256694  2.2978805   1.04694242 -0.65971632  1.34518046  0.3322053\n",
      "   1.12200211  0.17906668 -0.92389967  1.24430418  1.24692237 -0.91730322\n",
      "   1.16351634  1.15640289  0.38168186  0.82064337  0.39612015  1.40170982\n",
      "   1.19709469]\n",
      " [ 0.97793108 -0.43518364 -0.95516237 -0.65971632  0.97755381  0.3322053\n",
      "   1.12200211  0.17906668  1.40058381  1.24430418 -1.02775932 -0.91730322\n",
      "  -1.09881281 -1.1054762  -0.82144574  0.82064337  0.39612015  0.73855063\n",
      "   0.501234  ]\n",
      " [-1.02256694 -0.43518364  1.04694242 -0.65971632 -0.32956317  0.3322053\n",
      "  -0.99005226 -1.16871765 -0.92389967  1.24430418 -1.02775932 -0.91730322\n",
      "   1.16351634  1.15640289 -0.82144574  0.82064337 -1.47893729  0.17227617\n",
      "  -1.14473398]\n",
      " [ 0.97793108 -0.43518364  1.04694242 -0.65971632 -0.94227425 -3.01018679\n",
      "   0.06597492 -1.16871765 -0.92389967 -1.02980874 -1.02775932  1.41198077\n",
      "   1.16351634 -1.1054762  -0.82144574 -1.21855613  1.33364886 -0.7898893\n",
      "  -0.20205771]]\n"
     ]
    }
   ],
   "source": [
    "print(X_train[:5])"
   ]
  },
  {
   "cell_type": "markdown",
   "id": "833e6666",
   "metadata": {},
   "source": [
    "# ● Model Building and Evaluation (25 points)"
   ]
  },
  {
   "cell_type": "markdown",
   "id": "1438ae88",
   "metadata": {},
   "source": [
    "## 11. Write a function. (8 points)\n",
    "## - ii) Fit the model with the train data.\n",
    "## - iii) Make predictions on the test set.\n",
    "## - iv) Returns the Accuracy Score"
   ]
  },
  {
   "cell_type": "code",
   "execution_count": 45,
   "id": "b5c96bde",
   "metadata": {},
   "outputs": [],
   "source": [
    "def model_function(model, X_train, X_test, y_train, y_test):\n",
    "    \"\"\"\n",
    "    Train the model, fit the model with train data,make predictions and return accuracy score\n",
    "    \n",
    "    Parameters:\n",
    "    - model: The machine learning model to be trained and evaluated.\n",
    "    - X_train: The features of the training set.\n",
    "    - X_test: The features of the testing set.\n",
    "    - y_train: The features of the target training set.\n",
    "    - y_test: The features of the target testing set.\n",
    "    \n",
    "    Returns:\n",
    "    - accuracy: The accuracy score of the model on the test set.\n",
    "    \"\"\"\n",
    "    #Fitting the model\n",
    "    model.fit(X_train, y_train)\n",
    "    \n",
    "    #make prediction\n",
    "    y_pred = model.predict(X_test)\n",
    "    \n",
    "    #Return the accuracy\n",
    "    accuracy = accuracy_score(y_test, y_pred)\n",
    "    \n",
    "    return accuracy"
   ]
  },
  {
   "cell_type": "markdown",
   "id": "53da7e41",
   "metadata": {},
   "source": [
    "## 12. Use the function and train a Logistic regression, KNN, and Naive Bayes,Decision tree, Random forest, Boosting and Stacking Classifier models and make predictions on test data. (8 points)"
   ]
  },
  {
   "cell_type": "code",
   "execution_count": 42,
   "id": "228ef4f5",
   "metadata": {},
   "outputs": [],
   "source": [
    "##Load all the model\n",
    "lr = LogisticRegression()\n",
    "kn = KNeighborsClassifier()\n",
    "nb = GaussianNB()\n",
    "dt = DecisionTreeClassifier()\n",
    "rf = RandomForestClassifier()\n",
    "ab = AdaBoostClassifier()\n",
    "gb = GradientBoostingClassifier()"
   ]
  },
  {
   "cell_type": "code",
   "execution_count": 48,
   "id": "3b11090c",
   "metadata": {},
   "outputs": [],
   "source": [
    "result = pd.DataFrame(columns = ['Accuracy'])\n",
    "\n",
    "for model, model_name in zip([lr,kn,nb,dt,rf,ab,sc], \n",
    "                             ['Logistic Regression', 'Knn', 'Naive Bayes', 'decision tree',\n",
    "                              'random forest', 'ada boost', 'gradient boost']):\n",
    "    accuracy = model_function(model, X_train, X_test, y_train, y_test)\n",
    "    result.loc[model_name] = accuracy\n"
   ]
  },
  {
   "cell_type": "code",
   "execution_count": 50,
   "id": "26b7c20d",
   "metadata": {},
   "outputs": [],
   "source": [
    "Stacked_model = StackingClassifier(estimators= [\n",
    "    ('logreg', lr),\n",
    "    ('knn', kn),\n",
    "    ('naive Bayes', nb),\n",
    "    ('decision tree', dt),\n",
    "    ('random forest', rf),\n",
    "    ('ada boost', ab),\n",
    "    ('gradient boost', gb)\n",
    "], final_estimator = LogisticRegression())\n",
    "\n",
    "Stacked_model.fit(X_train, y_train)\n",
    "\n",
    "Stacked_pred = Stacked_model.predict(X_test)\n",
    "\n",
    "Accuracy_score = accuracy_score(y_test, Stacked_pred)"
   ]
  },
  {
   "cell_type": "markdown",
   "id": "1fa16a90",
   "metadata": {},
   "source": [
    "## 13. Display and compare all the models designed with their test accuracies.(4)"
   ]
  },
  {
   "cell_type": "code",
   "execution_count": 53,
   "id": "f4d0a90a",
   "metadata": {},
   "outputs": [
    {
     "data": {
      "text/html": [
       "<div>\n",
       "<style scoped>\n",
       "    .dataframe tbody tr th:only-of-type {\n",
       "        vertical-align: middle;\n",
       "    }\n",
       "\n",
       "    .dataframe tbody tr th {\n",
       "        vertical-align: top;\n",
       "    }\n",
       "\n",
       "    .dataframe thead th {\n",
       "        text-align: right;\n",
       "    }\n",
       "</style>\n",
       "<table border=\"1\" class=\"dataframe\">\n",
       "  <thead>\n",
       "    <tr style=\"text-align: right;\">\n",
       "      <th></th>\n",
       "      <th>Accuracy</th>\n",
       "    </tr>\n",
       "  </thead>\n",
       "  <tbody>\n",
       "    <tr>\n",
       "      <th>Logistic Regression</th>\n",
       "      <td>0.805963</td>\n",
       "    </tr>\n",
       "    <tr>\n",
       "      <th>Knn</th>\n",
       "      <td>0.745386</td>\n",
       "    </tr>\n",
       "    <tr>\n",
       "      <th>Naive Bayes</th>\n",
       "      <td>0.758164</td>\n",
       "    </tr>\n",
       "    <tr>\n",
       "      <th>decision tree</th>\n",
       "      <td>0.726929</td>\n",
       "    </tr>\n",
       "    <tr>\n",
       "      <th>random forest</th>\n",
       "      <td>0.791765</td>\n",
       "    </tr>\n",
       "    <tr>\n",
       "      <th>ada boost</th>\n",
       "      <td>0.810696</td>\n",
       "    </tr>\n",
       "    <tr>\n",
       "      <th>gradient boost</th>\n",
       "      <td>0.812115</td>\n",
       "    </tr>\n",
       "  </tbody>\n",
       "</table>\n",
       "</div>"
      ],
      "text/plain": [
       "                     Accuracy\n",
       "Logistic Regression  0.805963\n",
       "Knn                  0.745386\n",
       "Naive Bayes          0.758164\n",
       "decision tree        0.726929\n",
       "random forest        0.791765\n",
       "ada boost            0.810696\n",
       "gradient boost       0.812115"
      ]
     },
     "execution_count": 53,
     "metadata": {},
     "output_type": "execute_result"
    }
   ],
   "source": [
    "# Displaying accuracy of all the model except stack\n",
    "result"
   ]
  },
  {
   "cell_type": "code",
   "execution_count": 52,
   "id": "f2428389",
   "metadata": {},
   "outputs": [
    {
     "name": "stdout",
     "output_type": "stream",
     "text": [
      "Accuracy score of stack classifier is:  0.8135352579271179\n"
     ]
    }
   ],
   "source": [
    "print('Accuracy score of stack classifier is: ', Accuracy_score)"
   ]
  },
  {
   "cell_type": "markdown",
   "id": "cdd243d3",
   "metadata": {},
   "source": [
    "## 14. Select the final best trained model along with your detailed comments for selecting this model. (3 points)"
   ]
  },
  {
   "cell_type": "markdown",
   "id": "1a007d30",
   "metadata": {},
   "source": [
    " * The stacking classifier is the best-performing model based on accuracy. The accuracy score of 0.8135 indicates the proportion of correctly classified instances, making it a suitable metric for evaluation.\n",
    "\n",
    "#### Comments for selecting the stacking classifier as the final best-trained model:\n",
    "\n",
    "- **Ensemble Approach:** The stacking classifier combines the predictions of multiple base models, taking advantage of the diverse strengths of each model. This ensemble approach often leads to improved performance compared to individual models.\n",
    "\n",
    "- **Higher Accuracy:** The stacking classifier achieved the highest accuracy score (0.8135) among all the models, suggesting that it provides the most accurate predictions on the given dataset.\n",
    "\n",
    "- **Robustness:** Ensemble methods, such as stacking, are generally more robust to overfitting and can generalize well to new data. This makes the stacking classifier a reliable choice for making predictions on unseen data.\n",
    "\n",
    "In summary, the stacking classifier is selected as the final best-trained model due to its higher accuracy and the inherent benefits of ensemble learning in terms of combining diverse models for improved performance.\n"
   ]
  },
  {
   "cell_type": "markdown",
   "id": "2b09edbe",
   "metadata": {},
   "source": [
    "## 15. Write your conclusion on the results.(2 points)"
   ]
  },
  {
   "cell_type": "markdown",
   "id": "d68e8430",
   "metadata": {},
   "source": [
    "* In conclusion, the results of the model evaluation and training indicate that the stacking classifier outperformed individual models, including logistic regression, KNN, Naive Bayes, decision tree, random forest, and boosting algorithms (Ada Boost and Gradient Boost). The accuracy scores were as follows:\n",
    "\n",
    "     - Stacking Classifier: 0.8135\n",
    "     - Logistic Regression: 0.8059\n",
    "     - Ada Boost: 0.8107\n",
    "     - Gradient Boost: 0.8121\n",
    "     - Random Forest: 0.7918\n",
    "     - Naive Bayes: 0.7582\n",
    "     - KNN: 0.7454\n",
    "     - Decision Tree: 0.7269\n",
    "     \n",
    "* The stacking classifier demonstrated the highest accuracy, making it the preferred model for this particular dataset. The ensemble approach employed by stacking, which combines the strengths of various models, contributed to its superior performance.\n",
    "\n",
    "* It is important to note that accuracy is just one metric, and depending on the specific characteristics and requirements of the problem, other metrics like precision, recall, or F1-score may be considered for a more comprehensive evaluation.\n",
    "\n",
    "* In practical terms, the stacking classifier can be considered a reliable choice for making predictions on similar datasets or in scenarios where a high level of accuracy is a priority. However, further analysis and consideration of domain-specific factors may be necessary to ensure the suitability of the chosen model for real-world applications."
   ]
  },
  {
   "cell_type": "markdown",
   "id": "a09d4a6f",
   "metadata": {},
   "source": [
    "**NOTE:** Python-Lab-03 is same refer this also"
   ]
  },
  {
   "cell_type": "code",
   "execution_count": null,
   "id": "a7661a8b",
   "metadata": {},
   "outputs": [],
   "source": []
  }
 ],
 "metadata": {
  "kernelspec": {
   "display_name": "Python 3 (ipykernel)",
   "language": "python",
   "name": "python3"
  },
  "language_info": {
   "codemirror_mode": {
    "name": "ipython",
    "version": 3
   },
   "file_extension": ".py",
   "mimetype": "text/x-python",
   "name": "python",
   "nbconvert_exporter": "python",
   "pygments_lexer": "ipython3",
   "version": "3.11.5"
  }
 },
 "nbformat": 4,
 "nbformat_minor": 5
}
